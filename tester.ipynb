{
 "cells": [
  {
   "cell_type": "code",
   "execution_count": 2,
   "metadata": {},
   "outputs": [
    {
     "name": "stdout",
     "output_type": "stream",
     "text": [
      "Requirement already satisfied: anvil-uplink in /home/siddharth_s/software/voila/venv/lib/python3.8/site-packages (0.3.34)\n",
      "Requirement already satisfied: six in /home/siddharth_s/software/voila/venv/lib/python3.8/site-packages (from anvil-uplink) (1.15.0)\n",
      "Requirement already satisfied: argparse in /home/siddharth_s/software/voila/venv/lib/python3.8/site-packages (from anvil-uplink) (1.4.0)\n",
      "Requirement already satisfied: future in /home/siddharth_s/software/voila/venv/lib/python3.8/site-packages (from anvil-uplink) (0.18.2)\n",
      "Requirement already satisfied: ws4py in /home/siddharth_s/software/voila/venv/lib/python3.8/site-packages (from anvil-uplink) (0.5.1)\n",
      "Note: you may need to restart the kernel to use updated packages.\n"
     ]
    }
   ],
   "source": [
    "pip install anvil-uplink"
   ]
  },
  {
   "cell_type": "code",
   "execution_count": 3,
   "metadata": {},
   "outputs": [],
   "source": [
    "import anvil.server"
   ]
  },
  {
   "cell_type": "code",
   "execution_count": 4,
   "metadata": {},
   "outputs": [],
   "source": [
    "@anvil.server.callable\n",
    "def new_name(text):\n",
    "    text = text + \"is a sux\"\n",
    "    return text\n",
    " "
   ]
  },
  {
   "cell_type": "code",
   "execution_count": 5,
   "metadata": {},
   "outputs": [
    {
     "name": "stdout",
     "output_type": "stream",
     "text": [
      "Connecting to wss://anvil.works/uplink\n",
      "Anvil websocket open\n",
      "Connected to \"Default environment (dev)\" as SERVER\n"
     ]
    }
   ],
   "source": [
    "anvil.server.connect(\"FEJAPZOQK6F6RXDMLEXNM4KS-IN7Y3KVLDGXCUBU4\")"
   ]
  },
  {
   "cell_type": "code",
   "execution_count": null,
   "metadata": {},
   "outputs": [],
   "source": [
    "print('Hello World')"
   ]
  },
  {
   "cell_type": "code",
   "execution_count": null,
   "metadata": {},
   "outputs": [],
   "source": []
  }
 ],
 "metadata": {
  "kernelspec": {
   "display_name": "Python 3",
   "language": "python",
   "name": "python3"
  },
  "language_info": {
   "codemirror_mode": {
    "name": "ipython",
    "version": 3
   },
   "file_extension": ".py",
   "mimetype": "text/x-python",
   "name": "python",
   "nbconvert_exporter": "python",
   "pygments_lexer": "ipython3",
   "version": "3.8.3"
  }
 },
 "nbformat": 4,
 "nbformat_minor": 2
}
